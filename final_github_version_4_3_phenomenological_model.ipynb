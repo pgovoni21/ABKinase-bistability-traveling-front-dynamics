{
 "cells": [
  {
   "cell_type": "code",
   "execution_count": 1,
   "metadata": {},
   "outputs": [],
   "source": [
    "import numpy as np\n",
    "from scipy.integrate import odeint\n",
    "import matplotlib.pyplot as plt\n",
    "import seaborn as sns\n",
    "sns.set_style(\"whitegrid\")\n",
    "import time"
   ]
  },
  {
   "cell_type": "markdown",
   "metadata": {},
   "source": [
    "# cells defined in earlier notebooks"
   ]
  },
  {
   "cell_type": "code",
   "execution_count": 2,
   "metadata": {},
   "outputs": [],
   "source": [
    "def saddle_node_locator(ss_list):\n",
    "    \"\"\"\n",
    "    find point where steady state (ss) jumps (hysteresis)\n",
    "    where unsteady state manifold appears/disappears\n",
    "    \"\"\"\n",
    "    for n,(i,j) in enumerate(zip(ss_list[:-1], ss_list[1:])):\n",
    "        if abs(j-i) > 0.3:\n",
    "            return n+1"
   ]
  },
  {
   "cell_type": "markdown",
   "metadata": {},
   "source": [
    "# defining the phenomenological model"
   ]
  },
  {
   "cell_type": "code",
   "execution_count": 3,
   "metadata": {},
   "outputs": [],
   "source": [
    "def R_pheno(A,t):\n",
    "    \"\"\"\n",
    "    system of ODEs simplifying the Zaytsev 2016 mass-action model, using:\n",
    "    - Michaelis constants (Kr, Kr) to describe both binding + product formation\n",
    "    - Hill coefficients (n, m) to describe nonlinear activity\n",
    "    \"\"\"\n",
    "    phos = cis + trans*A**n/(Kf**n + A**n)\n",
    "    dephos = inact*P*Kr**m/(Kr**m + A**m)\n",
    "    return phos*(Atot - A) - dephos*A"
   ]
  },
  {
   "cell_type": "code",
   "execution_count": 4,
   "metadata": {},
   "outputs": [],
   "source": [
    "\"\"\"\n",
    "parameters for the phenomenological model chosen for conceptual simplicity\n",
    "\"\"\"\n",
    "\n",
    "cis   = .01   # to reflect large difference between 'in cis' & 'in trans' reaction rates\n",
    "trans = 1\n",
    "inact = 1\n",
    "Kf    = 1\n",
    "Kr    = 1\n",
    "n = 2         # Hill coefficient > 1 to reflect nonlinear activation\n",
    "m = 1         # Hill coefficient = 1 to reflect linear inactivation"
   ]
  },
  {
   "cell_type": "code",
   "execution_count": 5,
   "metadata": {
    "scrolled": true
   },
   "outputs": [
    {
     "name": "stdout",
     "output_type": "stream",
     "text": [
      "~ 0.8 min\n"
     ]
    }
   ],
   "source": [
    "\"\"\"\n",
    "algorithm to find steady states + unsteady state manifold in the bistable regions\n",
    "of the phenomenological system at different phosphatase concentrations\n",
    "\"\"\"\n",
    "start = time.time()\n",
    "## algorithm takes <1 min\n",
    "\n",
    "tspan = np.linspace(0,10*60,1000)\n",
    "Atot_range = np.arange(0,5,.01)\n",
    "\n",
    "bistab_curves_var_P = []\n",
    "\n",
    "for P in [.25,.5,.75]:\n",
    "    \n",
    "    lo_list = []\n",
    "    hi_list = []\n",
    "    Atot_bistable_list = []\n",
    "    bistable_list = []\n",
    "\n",
    "    for Atot in Atot_range:\n",
    "\n",
    "        y = odeint(R_pheno,0,tspan)\n",
    "        lo_ss = y[-1][0]\n",
    "        lo_list.append(lo_ss)\n",
    "\n",
    "        y = odeint(R_pheno,Atot,tspan)\n",
    "        hi_ss = y[-1][0]\n",
    "        hi_list.append(hi_ss)\n",
    "\n",
    "        if not np.isclose(lo_ss, hi_ss, atol=.1):\n",
    "            Atot_bistable_list.append(Atot)\n",
    "            bistable_list.append((Atot, lo_ss, hi_ss))\n",
    "\n",
    "    unstablemanifold_list = []\n",
    "    for Atot, lo_ss, hi_ss in bistable_list:\n",
    "        A0 = lo_ss\n",
    "        A_sim = np.zeros(1)\n",
    "        A_sim[-1] = -1\n",
    "        while A_sim[-1] < A0:\n",
    "            A0 += .01\n",
    "            A_sim = odeint(R_pheno,A0,tspan)\n",
    "        unstablemanifold_list.append(A0)\n",
    "\n",
    "    n_lo = saddle_node_locator(lo_list)\n",
    "    n_hi = saddle_node_locator(hi_list)\n",
    "\n",
    "    saddle_x = [Atot_range[n_hi]] + Atot_bistable_list + [Atot_range[n_lo-1]]\n",
    "    saddle_y = [hi_list[n_hi]] + unstablemanifold_list + [lo_list[n_lo-1]]\n",
    "    \n",
    "    bistab_curves_var_P.append((P,lo_list,n_lo,hi_list,n_hi,saddle_x,saddle_y))\n",
    "    \n",
    "end = time.time()\n",
    "print(f'~ {round( (end - start)/60, 1 )} min')"
   ]
  },
  {
   "cell_type": "code",
   "execution_count": 6,
   "metadata": {},
   "outputs": [
    {
     "data": {
      "image/png": "[encoded data removed]",
      "text/plain": [
       "<Figure size 432x288 with 1 Axes>"
      ]
     },
     "metadata": {},
     "output_type": "display_data"
    }
   ],
   "source": [
    "\"\"\"\n",
    "Figure 8A\n",
    "plots bistability curve results of the above algorithm as related to total kinase concentration\n",
    "- demonstrates balance between activation + inactivation feedback loops\n",
    "- as phosphatase increases, the bottom branch (low steady state) lengthens relative to the top, \n",
    "showing an increase in the relative strength of the negative feedback loop\n",
    "\"\"\"\n",
    "\n",
    "colors = ['C0','C1','C2']\n",
    "colors_dot = ['C0:','C1:','C2:']\n",
    "\n",
    "for (P,lo_list,n_lo,hi_list,n_hi,saddle_x,saddle_y),color,color_dot in zip(bistab_curves_var_P,colors,colors_dot):\n",
    "    plt.plot(Atot_range[:n_lo], lo_list[:n_lo], color, label=f'{P}')\n",
    "    plt.plot(Atot_range[n_hi:], hi_list[n_hi:], color)\n",
    "    plt.plot(saddle_x,saddle_y, color_dot)\n",
    "    \n",
    "plt.legend(title='[PPase] (\\u03BCM)')\n",
    "plt.xlabel('[Total ABK] (\\u03BCM)')\n",
    "plt.ylabel('[ABKp] (\\u03BCM)')\n",
    "plt.ylim(-5*.05, 5*1.05);"
   ]
  },
  {
   "cell_type": "code",
   "execution_count": 7,
   "metadata": {},
   "outputs": [
    {
     "name": "stdout",
     "output_type": "stream",
     "text": [
      "~ 0.7 min\n"
     ]
    }
   ],
   "source": [
    "\"\"\"\n",
    "algorithm to find steady states + unsteady state manifold in the bistable regions\n",
    "of the phenomenological system at different phosphatase concentrations\n",
    "plotted with phosphatase concentration as the x-axis\n",
    "\"\"\"\n",
    "start = time.time()\n",
    "## algorithm takes <1 min\n",
    "\n",
    "tspan = np.linspace(0,10*60,1000)\n",
    "P_range = np.arange(0,2,.01)\n",
    "\n",
    "bistab_curves_var_Atot = []\n",
    "\n",
    "for Atot in [1.5,2,2.5]:\n",
    "    \n",
    "    lo_list = []\n",
    "    hi_list = []\n",
    "    P_bistable_list = []\n",
    "    bistable_list = []\n",
    "\n",
    "    for P in P_range:\n",
    "\n",
    "        y = odeint(R_pheno,0,tspan)\n",
    "        lo_ss = y[-1][0]\n",
    "        lo_list.append(lo_ss)\n",
    "\n",
    "        y = odeint(R_pheno,Atot,tspan)\n",
    "        hi_ss = y[-1][0]\n",
    "        hi_list.append(hi_ss)\n",
    "\n",
    "        if not np.isclose(lo_ss, hi_ss, atol=.1):\n",
    "            P_bistable_list.append(P)\n",
    "            bistable_list.append((P, lo_ss, hi_ss))\n",
    "\n",
    "    unstablemanifold_list = []\n",
    "    for P, lo_ss, hi_ss in bistable_list:\n",
    "        A0 = lo_ss\n",
    "        A_sim = np.zeros(1)\n",
    "        A_sim[-1] = -1\n",
    "        while A_sim[-1] < A0:\n",
    "            A0 += .01\n",
    "            A_sim = odeint(R_pheno,A0,tspan)\n",
    "        unstablemanifold_list.append(A0)\n",
    "\n",
    "    n_lo = saddle_node_locator(lo_list)\n",
    "    n_hi = saddle_node_locator(hi_list)\n",
    "\n",
    "    saddle_x = [P_range[n_lo]] + P_bistable_list + [P_range[n_hi-1]]\n",
    "    saddle_y = [lo_list[n_lo]] + unstablemanifold_list + [hi_list[n_hi-1]]\n",
    "    \n",
    "    bistab_curves_var_Atot.append((Atot,lo_list,n_lo,hi_list,n_hi,saddle_x,saddle_y))\n",
    "\n",
    "end = time.time()\n",
    "print(f'~ {round( (end - start)/60, 1 )} min')"
   ]
  },
  {
   "cell_type": "code",
   "execution_count": 8,
   "metadata": {},
   "outputs": [
    {
     "data": {
      "image/png": "[encoded data removed]",
      "text/plain": [
       "<Figure size 432x288 with 1 Axes>"
      ]
     },
     "metadata": {},
     "output_type": "display_data"
    }
   ],
   "source": [
    "\"\"\"\n",
    "Figure 8B\n",
    "plots bistability curve results of the above algorithm as related to phosphatase concentration\n",
    "- as total kinase increases, the top branch (high steady state) lengthens relative to the bottom, \n",
    "showing an increase in the relative strength of the positive feedback loop\n",
    "\"\"\"\n",
    "\n",
    "colors = ['C0','C1','C2']\n",
    "colors_dot = ['C0:','C1:','C2:']\n",
    "\n",
    "for (Atot,lo_list,n_lo,hi_list,n_hi,saddle_x,saddle_y),color,color_dot in zip(bistab_curves_var_Atot,colors,colors_dot):\n",
    "    plt.plot(P_range[n_lo:], lo_list[n_lo:], color, label=f'{Atot}')\n",
    "    plt.plot(P_range[:n_hi], hi_list[:n_hi], color)\n",
    "    plt.plot(saddle_x,saddle_y, color_dot)\n",
    "    \n",
    "plt.legend(title='[Total ABK] (\\u03BCM)')\n",
    "plt.xlabel('[PPase] (\\u03BCM)')\n",
    "plt.ylabel('[ABKp] (\\u03BCM)')\n",
    "plt.ylim(-5*.05, 5*1.05)\n",
    "plt.locator_params(axis='x', nbins=5);"
   ]
  },
  {
   "cell_type": "code",
   "execution_count": null,
   "metadata": {},
   "outputs": [],
   "source": []
  }
 ],
 "metadata": {
  "kernelspec": {
   "display_name": "Python 3",
   "language": "python",
   "name": "python3"
  },
  "language_info": {
   "codemirror_mode": {
    "name": "ipython",
    "version": 3
   },
   "file_extension": ".py",
   "mimetype": "text/x-python",
   "name": "python",
   "nbconvert_exporter": "python",
   "pygments_lexer": "ipython3",
   "version": "3.7.6"
  }
 },
 "nbformat": 4,
 "nbformat_minor": 4
}
